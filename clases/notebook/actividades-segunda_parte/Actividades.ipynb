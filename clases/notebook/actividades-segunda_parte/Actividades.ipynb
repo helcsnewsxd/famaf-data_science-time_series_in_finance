{
 "cells": [
  {
   "cell_type": "code",
   "execution_count": null,
   "metadata": {},
   "outputs": [],
   "source": [
    "import matplotlib.pyplot as plt\n",
    "import numpy as np\n",
    "import pandas as pd\n",
    "\n",
    "import statsmodels.api as sm"
   ]
  },
  {
   "cell_type": "code",
   "execution_count": null,
   "metadata": {},
   "outputs": [],
   "source": [
    "def tsplot(y, lags=None, figsize=(15, 10), style='bmh', title = 'Time Series Analysis Plots' ):\n",
    "    '''Esta función muestra el gráfico de la serie y de las funciones ACF y PACF.'''\n",
    "    if not isinstance(y, pd.Series):\n",
    "        y = pd.Series(y)\n",
    "    with plt.style.context(style):    \n",
    "        fig = plt.figure(figsize=figsize)\n",
    "        #mpl.rcParams['font.family'] = 'Ubuntu Mono'\n",
    "        layout = (2, 2)\n",
    "        ts_ax = plt.subplot2grid(layout, (0, 0), colspan=2)\n",
    "        acf_ax = plt.subplot2grid(layout, (1, 0))\n",
    "        pacf_ax = plt.subplot2grid(layout, (1, 1))\n",
    "        \n",
    "        y.plot(ax=ts_ax)\n",
    "        ts_ax.set_ylabel(r'$y_t$')\n",
    "        ts_ax.set_xlabel(r'$t$')\n",
    "        ts_ax.set_title(title)\n",
    "        sm.graphics.tsa.plot_acf(y, lags=lags, ax=acf_ax, alpha=0.05)\n",
    "        sm.graphics.tsa.plot_pacf(y, lags=lags, ax=pacf_ax, alpha=0.05)\n",
    "        \n",
    "        plt.tight_layout()\n",
    "    return"
   ]
  },
  {
   "cell_type": "markdown",
   "metadata": {},
   "source": [
    "## Actividad 1: Visualización de series\n",
    "\n"
   ]
  },
  {
   "cell_type": "code",
   "execution_count": null,
   "metadata": {},
   "outputs": [],
   "source": [
    "spy = pd.read_csv('SPY.csv', index_col = 'Date', parse_dates = True)\n",
    "spy['High'].plot(figsize=(10,5), label = 'SPY')\n",
    "plt.legend(loc = 'upper left')\n",
    "plt.show()"
   ]
  },
  {
   "cell_type": "code",
   "execution_count": null,
   "metadata": {},
   "outputs": [],
   "source": [
    "eurusd = pd.read_csv('EURUSD.csv', index_col = 'Date', parse_dates = True)\n",
    "eurusd['Adj Close'].plot(figsize=(10,5), label = 'EURUSD', color = 'red')\n",
    "plt.legend(loc = 'upper left')\n",
    "plt.show()"
   ]
  },
  {
   "cell_type": "code",
   "execution_count": null,
   "metadata": {},
   "outputs": [],
   "source": [
    "vix = pd.read_csv('^VIX.csv', index_col = 'Date', parse_dates = True)\n",
    "vix['Open'].plot(figsize=(10,5), label = 'VIX', color = 'orange')\n",
    "plt.legend(loc = 'upper left')\n",
    "plt.show()"
   ]
  },
  {
   "cell_type": "markdown",
   "metadata": {},
   "source": []
  },
  {
   "cell_type": "markdown",
   "metadata": {},
   "source": [
    "## Actividad 2: Test de Dickey Fuller augmentado"
   ]
  },
  {
   "cell_type": "markdown",
   "metadata": {},
   "source": [
    "En esta actividad se aplicará el test ADF para testear estacionariedad. \n",
    "En primer lugar graficaremos la serie de tipo de cambio GBP/USD en el archivo \"GBPUSD.csv\", correspondiente al período 2009-2014.\n",
    "\n",
    "¿Tendría argumentos para decir que esta serie sigue un patrón de una serie no estacionaria?"
   ]
  },
  {
   "cell_type": "code",
   "execution_count": null,
   "metadata": {},
   "outputs": [],
   "source": [
    "\n",
    "gbpusd = pd.read_csv('GBPUSD.csv', index_col= 'Date', parse_dates = True)\n",
    "gbpusd[\"Close\"].plot()"
   ]
  },
  {
   "cell_type": "markdown",
   "metadata": {},
   "source": [
    "\n",
    "Para tener mayor seguridad y posteriormete poder realizar mejores predicciones, aplicaremos el test de Dickey Fuller. "
   ]
  },
  {
   "cell_type": "markdown",
   "metadata": {},
   "source": [
    "En esta actividad se aplicará el test ADF para testear estacionariedad. \n",
    "En primer lugar graficaremos la serie de tipo de cambio GBP/USD en el archivo \"GBPUSD.csv\", correspondiente al período 2009-2014.\n",
    "\n",
    "¿Tendría argumentos para decir que esta serie sigue un patrón de una serie no estacionaria?"
   ]
  },
  {
   "cell_type": "code",
   "execution_count": null,
   "metadata": {},
   "outputs": [],
   "source": [
    "\n",
    "gbpusd = pd.read_csv('GBPUSD.csv', index_col= 'Date', parse_dates = True)\n",
    "gbpusd[\"Close\"].plot()"
   ]
  },
  {
   "cell_type": "markdown",
   "metadata": {},
   "source": [
    "\n",
    "Para tener mayor seguridad y posteriormete poder realizar mejores predicciones, aplicaremos el test de Dickey Fuller. "
   ]
  },
  {
   "cell_type": "markdown",
   "metadata": {},
   "source": [
    "1. Importe la función adfuller() desde statsmodels.\n",
    "2. Corra la función adfuller() a la columna \"Adj Close\" del data frame de la serie.\n",
    "3. Imprima: \n",
    "    - el valor del estadístico\n",
    "    - el p-valor\n",
    "    - los valores críticos."
   ]
  },
  {
   "cell_type": "code",
   "execution_count": null,
   "metadata": {},
   "outputs": [],
   "source": [
    "# Importar ADF\n",
    "from statsmodels.tsa.stattools import ____\n",
    "\n",
    "# Correr el test\n",
    "result = ____\n",
    "\n",
    "# Imprimir el valor del estadístico.\n",
    "print(____)\n",
    "\n",
    "# Imprimir el p-valor\n",
    "print(____)\n",
    "\n",
    "# Imprimir los valores críticos.\n",
    "print(____) "
   ]
  },
  {
   "cell_type": "markdown",
   "metadata": {},
   "source": [
    "Aplicaremos ahora el test ADF a cada una de las series visualizadas en la Actividad 1: SPY, EURUSD y VIX, esta vez para la columna de precios ajustados \"Adj Close\". ¿Qué conclusiones obtiene?"
   ]
  },
  {
   "cell_type": "code",
   "execution_count": null,
   "metadata": {},
   "outputs": [],
   "source": [
    "# Correr el test para SPY\n",
    "result = ____\n",
    "\n",
    "# Imprimir el valor del estadístico.\n",
    "print(____)\n",
    "\n",
    "# Imprimir el p-valor\n",
    "print(____)\n",
    "\n",
    "# Imprimir los valores críticos.\n",
    "print(____) "
   ]
  },
  {
   "cell_type": "code",
   "execution_count": null,
   "metadata": {},
   "outputs": [],
   "source": [
    "# Correr el test para EURUSD\n",
    "result = ____\n",
    "\n",
    "# Imprimir el valor del estadístico.\n",
    "print(____)\n",
    "\n",
    "# Imprimir el p-valor\n",
    "print(____)\n",
    "\n",
    "# Imprimir los valores críticos.\n",
    "print(____) "
   ]
  },
  {
   "cell_type": "code",
   "execution_count": null,
   "metadata": {},
   "outputs": [],
   "source": [
    "# Correr el test para VIX\n",
    "result = ____\n",
    "\n",
    "# Imprimir el valor del estadístico.\n",
    "print(____)\n",
    "\n",
    "# Imprimir el p-valor\n",
    "print(____)\n",
    "\n",
    "# Imprimir los valores críticos.\n",
    "print(____) "
   ]
  },
  {
   "cell_type": "markdown",
   "metadata": {},
   "source": [
    "Para aquellas series que no tienen evidencia de \"no ser estacionarias\", aplicaremos la primera diferencia, eliminando los valores NaN. Asignar esta serie diferenciada a \"nombre de serie\"_diff y volver a correr el test."
   ]
  },
  {
   "cell_type": "code",
   "execution_count": null,
   "metadata": {},
   "outputs": [],
   "source": [
    " # Calcular la primera diferencia \n",
    "serie_diff = ______\n",
    "\n",
    "# Correr el test ADF a la serie diferenciada.\n",
    "result = adfuller(____['Adj Close'].dropna())\n",
    "\n",
    "# Graficar la serie diferenciada\n",
    "fig, ax = plt.subplots()\n",
    "serie_diff['Adj Close'].plot(ax=ax)\n",
    "plt.show()\n",
    "\n",
    "# Imprimir el valor del estadístico y el p-valor de la serie diferenciada.\n",
    "print('ADF Statistic:', ____)\n",
    "print('p-value:', ____)"
   ]
  },
  {
   "cell_type": "code",
   "execution_count": null,
   "metadata": {},
   "outputs": [],
   "source": [
    "## Repetir para las demás series si corresponde."
   ]
  },
  {
   "cell_type": "markdown",
   "metadata": {},
   "source": [
    "### Otras transformaciones.\n",
    "\n",
    "Una forma de transformar una serie de precios de acciones es tomando el log-retorno de los precios. Esto se calcula como:\n",
    "\n",
    "$$\\log\\left(\\frac{P_t}{P_{t-1}}\\right)$$\n",
    "\n",
    "Así por ejemplo, si se trata de la serie de 'AAPL.csv' utilizaremos las funciones:\n",
    "\n",
    " $y_t$ <-- data_aapl\n",
    "\n",
    " $y_{t-1}$ <--data_aapl.shift(1)\n",
    " \n",
    " $log( )$ <-- np.log()\n",
    "\n",
    "En el siguiente ejercicio le pedimos analizar la existencia de una raíz unitaria para la serie AAPL, y para las transformaciones de log-retorno y las diferencias de primer orden para la serie de AAPL. "
   ]
  },
  {
   "cell_type": "code",
   "execution_count": null,
   "metadata": {},
   "outputs": [],
   "source": [
    "## Aplicar el test ADF a la serie.\n",
    "aapl = pd.read_csv('AAPL.csv', index_col='Date', parse_dates = True)\n",
    "result_aapl = adfuller(aapl['Adj Close'])\n",
    "print('Estadístico', result_aapl[0])\n",
    "print('p-valor', result_aapl[1])"
   ]
  },
  {
   "cell_type": "markdown",
   "metadata": {},
   "source": [
    "Calcular la primera diferencia de la serie temporal para testear estacionariedad."
   ]
  },
  {
   "cell_type": "code",
   "execution_count": null,
   "metadata": {},
   "outputs": [],
   "source": [
    "# Calcular la primera diferencia y eliminar los valores NaN.\n",
    "aapl_diff = ____.____()\n",
    "aapl_diff = aapl_diff.dropna()\n",
    "\n",
    "# Correr el test ADF e imprimir.\n",
    "result_diff = adfuller(aapl_diff['Adj Close'])\n",
    "print(result_diff)"
   ]
  },
  {
   "cell_type": "code",
   "execution_count": null,
   "metadata": {},
   "outputs": [],
   "source": [
    "# Calcular los log-retornos y eliminar los NaN.\n",
    "aapl_log = _____\n",
    "aapl_log = _____.dropna()\n",
    "\n",
    "# Correr el test e imprimir.\n",
    "result_log = adfuller(aapl_log['Adj Close'])\n",
    "print(result_log)"
   ]
  },
  {
   "cell_type": "markdown",
   "metadata": {},
   "source": [
    "## Actividad 3: Generación de datos ARMA"
   ]
  },
  {
   "cell_type": "markdown",
   "metadata": {},
   "source": [
    "\n",
    "\n",
    "En esta actividad generaremos datos correspondientes a un modelo AR, MA o ARMA. \n",
    "\n",
    "Para ello es posible usar la función arma_generate_sample().\n",
    "\n",
    "Recordar, para cualquier modelo ARMA(p,q):\n",
    "\n",
    "- La lista de los coeficientes \"ar\" son de la forma $[1, -a_1, -a_2, ..., -a_p]$.\n",
    "- La lista de los coeficientes \"ma\" son de la forma $[1, m_1, m_2, ..., m_q]$,\n",
    "donde los $a_i$ y $m_j$ son los coeficientes de los retardos $i$ de la parte AR y los retardos $j$ de la parte MA del modelo, respectivamente."
   ]
  },
  {
   "cell_type": "markdown",
   "metadata": {},
   "source": [
    "### Modelo MA(1)\n",
    "Construir un modelo MA(1) que responda a la fórmula:\n",
    "$$ y_t = a_t - 0.7 a_{t-1}$$\n",
    "Generar una serie de tiempo con 300 valores.\n",
    "\n"
   ]
  },
  {
   "cell_type": "code",
   "execution_count": null,
   "metadata": {},
   "outputs": [],
   "source": [
    "# Importar la función para generar la serie.\n",
    "from statsmodels.tsa.arima_process import arma_generate_sample\n",
    "np.random.seed(1)\n",
    "\n",
    "# Inicializar los coeficientes del modelo.\n",
    "ar_coefs = []\n",
    "ma_coefs = []\n",
    "\n",
    "burn_in = 500\n",
    "# Generar la serie.\n",
    "y = arma_generate_sample(_____, ______, nsample= _____, scale=0.5, burnin= burn_in)\n",
    "\n",
    "plt.plot(y)\n",
    "plt.ylabel(r'$y_t$')\n",
    "plt.xlabel(r'$t$')\n",
    "plt.show()"
   ]
  },
  {
   "cell_type": "markdown",
   "metadata": {},
   "source": [
    "### Modelo AR(1)\n",
    "Repetir la actividad anterior para el modelo: \n",
    "$y_t = -0.7y_{t-1} + \\epsilon_t $.\n",
    "Graficarlo.\n"
   ]
  },
  {
   "cell_type": "code",
   "execution_count": null,
   "metadata": {},
   "outputs": [],
   "source": [
    "#### \n",
    "np.random.seed(1)\n",
    "\n",
    "# Inicializar los coeficientes del modelo.\n",
    "ar_coefs = [___]\n",
    "ma_coefs = [___]\n",
    "\n",
    "# Generar la serie.\n",
    "y = arma_generate_sample(ar_coefs, ma_coefs, nsample=500, scale=0.5, burnin = 200) \n",
    "plt.plot(y, label = r'$y_t = -0.7 y_{t-1} + \\epsilon_t$')\n",
    "plt.legend()\n",
    "tsplot(y, lags = 20)"
   ]
  },
  {
   "cell_type": "markdown",
   "metadata": {},
   "source": [
    "### Modelo ARMA(p,q)\n",
    "Repetir la actividad anterior para el modelo: \n",
    "$y_t = -0.2y_{t-1} + 0.3 a_t + 0.4 a_{t-1}$.\n",
    "Graficarlo."
   ]
  },
  {
   "cell_type": "code",
   "execution_count": null,
   "metadata": {},
   "outputs": [],
   "source": [
    "### Resolver acá"
   ]
  },
  {
   "cell_type": "markdown",
   "metadata": {},
   "source": [
    "##  Ajuste y predicción\n",
    "\n",
    "En las siguientes celdas crearemos un modelo ARIMA(1,0,1), y luego lo ajustaremos a este modelo."
   ]
  },
  {
   "cell_type": "code",
   "execution_count": null,
   "metadata": {},
   "outputs": [],
   "source": [
    "## Crear un ARMA(1,1)\n",
    "np.random.seed(1)\n",
    "\n",
    "# Inicializar los coeficientes del modelo.\n",
    "ar_coefs = [1, 0.7]\n",
    "ma_coefs = [1, 0.5 ]\n",
    "\n",
    "# Generar la serie.\n",
    "y = arma_generate_sample(ar_coefs, ma_coefs, nsample=300, scale=0.5, burnin = 500)\n",
    "\n"
   ]
  },
  {
   "cell_type": "code",
   "execution_count": null,
   "metadata": {},
   "outputs": [],
   "source": [
    "\n",
    "#Damos estructura de pandas a la serie.\n",
    "y = pd.DataFrame(y, columns=['Serie'])\n",
    "\n"
   ]
  },
  {
   "cell_type": "markdown",
   "metadata": {},
   "source": [
    "En la siguiente celda, ajustaremos el modelo a un ARIMA(1,0,1). "
   ]
  },
  {
   "cell_type": "code",
   "execution_count": null,
   "metadata": {},
   "outputs": [],
   "source": [
    "# Importamos el modelo ARIMA \n",
    "from statsmodels.tsa.arima.model import ARIMA\n",
    "# Instanciamos el modelo\n",
    "model = ARIMA(y, order= (1,0,1))\n",
    "\n",
    "# Ajustamos el modelo\n",
    "results = model.fit()\n"
   ]
  },
  {
   "cell_type": "code",
   "execution_count": null,
   "metadata": {},
   "outputs": [],
   "source": [
    "## Imprimimos el resumen estadístico\n",
    "print(results.summary())"
   ]
  },
  {
   "cell_type": "markdown",
   "metadata": {},
   "source": [
    "Y ahora analizaremos la predicción de nuestro modelo dentro y fuera de la muestra."
   ]
  },
  {
   "cell_type": "code",
   "execution_count": null,
   "metadata": {},
   "outputs": [],
   "source": [
    "\n",
    "from statsmodels.graphics.tsaplots import plot_predict\n",
    "\n",
    "\n",
    "fig, ax = plt.subplots(figsize = (15,5))\n",
    "y.iloc[220:300].plot(ax=ax)\n",
    "\n",
    "plot_predict(results, 280, 310,  ax = ax)\n",
    "plt.show()\n"
   ]
  },
  {
   "cell_type": "code",
   "execution_count": null,
   "metadata": {},
   "outputs": [],
   "source": [
    "spy = pd.read_csv('SPY.csv', index_col = 'Date', parse_dates = True)\n",
    "spy_lrets = np.log(spy/spy.shift(1)).dropna()\n",
    "model_fit = ARIMA(spy_lrets['Adj Close'], order = (1,0,1)).fit()\n",
    "print(model_fit.summary())\n"
   ]
  },
  {
   "cell_type": "code",
   "execution_count": null,
   "metadata": {},
   "outputs": [],
   "source": [
    "fig, ax = plt.subplots(figsize = (15,5))\n",
    "spy_lrets['Adj Close'].iloc[-100:].plot(ax=ax)\n",
    "#model_fit.fittedvalues.iloc[-100:].plot( ax=ax, label = 'Fitted values')\n",
    "plt.legend()\n",
    "plot_predict(model_fit,start = spy_lrets.index[-100], end = spy_lrets.index[-1], ax = ax)\n",
    "plt.show()"
   ]
  },
  {
   "cell_type": "code",
   "execution_count": null,
   "metadata": {},
   "outputs": [],
   "source": [
    "fig, ax = plt.subplots(figsize = (15,5))\n",
    "spy_lrets.dropna()['Adj Close'].iloc[-200:].plot(ax=ax)\n",
    "x = model_fit.fittedvalues\n",
    "#x.iloc[-200:].plot(ax=ax, label = 'Fitted values')\n",
    "plt.legend()\n",
    "plot_predict(model_fit,start = aapl_lrets.index[-200], end = aapl_lrets.index[-1], ax = ax)\n",
    "plt.show()"
   ]
  },
  {
   "cell_type": "code",
   "execution_count": null,
   "metadata": {},
   "outputs": [],
   "source": []
  }
 ],
 "metadata": {
  "kernelspec": {
   "display_name": "Python 3",
   "language": "python",
   "name": "python3"
  },
  "language_info": {
   "codemirror_mode": {
    "name": "ipython",
    "version": 3
   },
   "file_extension": ".py",
   "mimetype": "text/x-python",
   "name": "python",
   "nbconvert_exporter": "python",
   "pygments_lexer": "ipython3",
   "version": "3.11.6"
  }
 },
 "nbformat": 4,
 "nbformat_minor": 2
}
