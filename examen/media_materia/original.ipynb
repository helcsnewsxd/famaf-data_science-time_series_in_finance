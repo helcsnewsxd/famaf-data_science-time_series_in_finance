{
 "cells": [
  {
   "cell_type": "markdown",
   "metadata": {
    "id": "fPg5_mFzz49P"
   },
   "source": [
    "# Introducción a las Series de tiempo\n",
    "\n",
    "### Examen Media Materia\n"
   ]
  },
  {
   "cell_type": "markdown",
   "metadata": {
    "id": "bbauLq5ez49X"
   },
   "source": [
    "Para aprobar hay que entregar este archivo con la información pedida y comentada.\n"
   ]
  },
  {
   "cell_type": "markdown",
   "metadata": {
    "id": "q1AH-i9jz49l"
   },
   "source": [
    "### Problema 1:\n",
    "\n",
    "- Objetivo de este problema: Estudiar la demanda mensual de energia electrica en Victoria.\n",
    "\n",
    "- Realice los siguientes gráficos siguiendo la notebook **Visualizacion de datos de polucion de corea.ipynb**\n",
    "\n",
    "  - Gráfico de radar\n",
    "\n",
    "  - Gráfico de barra circular\n",
    "\n",
    "  - Gráfico de ploteo radial\n",
    "\n",
    "Diga cual de los trés gráficos provee mejor información visual, y arme una única imagen con todos los gráficos realizados\n"
   ]
  },
  {
   "cell_type": "markdown",
   "metadata": {},
   "source": [
    "### Problema 2:\n",
    "\n",
    "- Objetivo de este problema: Realizar descomposiciones en tendencia y estacionalidad aditiva y multiplicativa (seasonal_decompose) para los gases de madrid 'NO_2' y 'CO'.\n",
    "\n",
    "- Dar una opinion de lo observado.\n"
   ]
  },
  {
   "cell_type": "markdown",
   "metadata": {},
   "source": [
    "### Problema 3:\n",
    "\n",
    "- Objetivo de este problema: Realizar suavizado exponencial, suavizado de Holt y suavizado de Holt-Winter para los gases de madrid 'NO_2' y 'CO'.\n",
    "\n",
    "- Encontrar los parámetros generando un set de validación y MSE.\n",
    "\n",
    "- Predecir usando TODA la serie (train mas validacion) y comparar con TEST .\n",
    "\n",
    "- Plotear la serie completa y la prediccion para observar el comportamiento de cada uno de los suavizados.\n",
    "\n",
    "- Dar una opinion de la bondad del método para estas series.\n"
   ]
  },
  {
   "cell_type": "code",
   "execution_count": null,
   "metadata": {},
   "outputs": [],
   "source": []
  }
 ],
 "metadata": {
  "colab": {
   "provenance": []
  },
  "kernelspec": {
   "display_name": "Python 3 (ipykernel)",
   "language": "python",
   "name": "python3"
  },
  "language_info": {
   "codemirror_mode": {
    "name": "ipython",
    "version": 3
   },
   "file_extension": ".py",
   "mimetype": "text/x-python",
   "name": "python",
   "nbconvert_exporter": "python",
   "pygments_lexer": "ipython3",
   "version": "3.7.1"
  }
 },
 "nbformat": 4,
 "nbformat_minor": 1
}
