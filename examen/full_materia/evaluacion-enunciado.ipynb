{
 "cells": [
  {
   "cell_type": "markdown",
   "metadata": {},
   "source": [
    "# Práctico Parte II \n",
    "## Optativa Series de Tiempo - 2024\n"
   ]
  },
  {
   "cell_type": "markdown",
   "metadata": {},
   "source": [
    "### Consigna\n",
    "\n",
    "Tomando como orientación el jupyter-notebook \"GARCH_Modelo_de_activos.ipynb\", se pide:\n",
    "- Seleccionar de Yahoo Finance https://es.finance.yahoo.com/ un activo, un índice, o un tipo de cambio. Descargar una serie con datos diarios que abarque al menos 10 años.\n",
    "- Aplicar la transformación .pctchange y seleccionar una de las columnas ['Close'] o ['Adj Close']. \n",
    "- Si el test ADF no rechaza la existencia de una raíz unitaria para esta transformación, elija otro conjunto de datos.\n",
    "- Plotee los valores y el cuadrado de los valores, y ajuste un modelo GARCH adecuado. Procure que el modelo sea simple ($p, q <= 3$).\n",
    "- Muestre en un gráfico que la volatilidad se adecua a la serie que se está modelando.\n",
    "- Entrene el modelo y realice una predicción de 5 valores de la volatilidad."
   ]
  },
  {
   "cell_type": "markdown",
   "metadata": {},
   "source": [
    "## Cargar paquetes"
   ]
  },
  {
   "cell_type": "code",
   "execution_count": null,
   "metadata": {},
   "outputs": [],
   "source": [
    "#import pandas_datareader.data as web\n",
    "from datetime import datetime, timedelta\n",
    "import pandas as pd\n",
    "import matplotlib.pyplot as plt\n",
    "from arch import arch_model\n",
    "from statsmodels.graphics.tsaplots import plot_acf, plot_pacf\n",
    "import numpy as np"
   ]
  },
  {
   "cell_type": "markdown",
   "metadata": {},
   "source": [
    "## Volatilidad de ____"
   ]
  },
  {
   "cell_type": "code",
   "execution_count": null,
   "metadata": {},
   "outputs": [],
   "source": [
    "\n",
    "___ = pd.read_csv('____.csv', ____)\n",
    "____.head()"
   ]
  },
  {
   "cell_type": "code",
   "execution_count": null,
   "metadata": {},
   "outputs": [],
   "source": [
    "returns = 100 * _____._____.dropna()"
   ]
  },
  {
   "cell_type": "code",
   "execution_count": null,
   "metadata": {},
   "outputs": [],
   "source": [
    "plt.figure(figsize=(10,4))\n",
    "plt.plot(returns)\n",
    "plt.ylabel('Pct Return', fontsize=16)\n",
    "plt.title('_____ Returns', fontsize=20)"
   ]
  },
  {
   "cell_type": "markdown",
   "metadata": {},
   "source": [
    "## PACF"
   ]
  },
  {
   "cell_type": "code",
   "execution_count": null,
   "metadata": {},
   "outputs": [],
   "source": [
    "plot_pacf(returns**2)\n",
    "plt.show()"
   ]
  },
  {
   "cell_type": "markdown",
   "metadata": {},
   "source": [
    "## Ajustar GARCH(p,q)\n",
    "\n",
    "Indique por qué ha seleccionado este modelo."
   ]
  },
  {
   "cell_type": "code",
   "execution_count": null,
   "metadata": {},
   "outputs": [],
   "source": [
    "model = arch_model(returns, p=__, q= __)"
   ]
  },
  {
   "cell_type": "code",
   "execution_count": null,
   "metadata": {},
   "outputs": [],
   "source": [
    "model_fit = model.fit()"
   ]
  },
  {
   "cell_type": "code",
   "execution_count": null,
   "metadata": {
    "scrolled": false
   },
   "outputs": [],
   "source": [
    "model_fit.summary()"
   ]
  },
  {
   "cell_type": "code",
   "execution_count": null,
   "metadata": {},
   "outputs": [],
   "source": [
    "rolling_predictions = []\n",
    "test_size = _____\n",
    "\n",
    "for i in range(test_size):\n",
    "    train = returns[:-(test_size-i)]\n",
    "    model = arch_model(train, p=____, q=____)\n",
    "    model_fit = model.fit(disp='off')\n",
    "    pred = model_fit.forecast(horizon=1)\n",
    "    rolling_predictions.append(np.sqrt(pred.variance.values[-1,:][0]))"
   ]
  },
  {
   "cell_type": "code",
   "execution_count": null,
   "metadata": {},
   "outputs": [],
   "source": [
    "rolling_predictions = pd.Series(rolling_predictions, index=returns.index[____:])"
   ]
  },
  {
   "cell_type": "code",
   "execution_count": null,
   "metadata": {
    "scrolled": true
   },
   "outputs": [],
   "source": [
    "plt.figure(figsize=(10,4))\n",
    "true, = plt.plot(returns[-____:])\n",
    "preds, = plt.plot(rolling_predictions)\n",
    "plt.title('Volatility Prediction - Rolling Forecast', fontsize=20)\n",
    "plt.legend(['True Returns', 'Predicted Volatility'], fontsize=16)"
   ]
  },
  {
   "cell_type": "markdown",
   "metadata": {},
   "source": [
    "## Rolling Forecast"
   ]
  },
  {
   "cell_type": "code",
   "execution_count": null,
   "metadata": {},
   "outputs": [],
   "source": [
    "rolling_predictions = []\n",
    "test_size = ______\n",
    "\n",
    "for i in range(test_size):\n",
    "    train = returns[:-(test_size-i)]\n",
    "    model = arch_model(train, p=___, q=____)\n",
    "    model_fit = model.fit(disp='off')\n",
    "    pred = model_fit.forecast(horizon=1)\n",
    "    rolling_predictions.append(np.sqrt(pred.variance.values[-1,:][0]))"
   ]
  },
  {
   "cell_type": "code",
   "execution_count": null,
   "metadata": {},
   "outputs": [],
   "source": [
    "rolling_predictions = pd.Series(rolling_predictions, index=returns.index[____:])"
   ]
  },
  {
   "cell_type": "markdown",
   "metadata": {},
   "source": []
  },
  {
   "cell_type": "code",
   "execution_count": null,
   "metadata": {
    "scrolled": true
   },
   "outputs": [],
   "source": [
    "plt.figure(figsize=(10,4))\n",
    "true, = plt.plot(returns[____:])\n",
    "preds, = plt.plot(rolling_predictions)\n",
    "plt.title('Volatility Prediction - Rolling Forecast', fontsize=20)\n",
    "plt.legend(['True Returns', 'Predicted Volatility'], fontsize=16)"
   ]
  },
  {
   "cell_type": "markdown",
   "metadata": {},
   "source": [
    "# Predecir 5 días"
   ]
  },
  {
   "cell_type": "code",
   "execution_count": null,
   "metadata": {},
   "outputs": [],
   "source": [
    "train = returns\n",
    "model = arch_model(train, p=____, q=___)\n",
    "model_fit = model.fit(disp='off')"
   ]
  },
  {
   "cell_type": "code",
   "execution_count": null,
   "metadata": {},
   "outputs": [],
   "source": [
    "horiz = ___\n",
    "pred = model_fit.forecast(horizon= horiz)\n",
    "future_dates = [returns.index[-1] + timedelta(days=i) for i in range(1,horiz+1)]\n",
    "pred = pd.Series(np.sqrt(pred.variance.values[-1,:]), index=future_dates)"
   ]
  },
  {
   "cell_type": "code",
   "execution_count": null,
   "metadata": {},
   "outputs": [],
   "source": [
    "plt.figure(figsize=(10,4))\n",
    "plt.plot(pred)\n",
    "plt.title('Volatility Prediction - Next 5 Days', fontsize=20)"
   ]
  },
  {
   "cell_type": "code",
   "execution_count": null,
   "metadata": {},
   "outputs": [],
   "source": []
  }
 ],
 "metadata": {
  "kernelspec": {
   "display_name": "Python 3",
   "language": "python",
   "name": "python3"
  },
  "language_info": {
   "codemirror_mode": {
    "name": "ipython",
    "version": 3
   },
   "file_extension": ".py",
   "mimetype": "text/x-python",
   "name": "python",
   "nbconvert_exporter": "python",
   "pygments_lexer": "ipython3",
   "version": "3.11.6"
  }
 },
 "nbformat": 4,
 "nbformat_minor": 2
}
